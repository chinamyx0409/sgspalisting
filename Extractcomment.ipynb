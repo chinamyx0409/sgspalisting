{
 "cells": [
  {
   "cell_type": "code",
   "execution_count": null,
   "id": "81e57d5e-6983-4a0f-9f72-d2436192491d",
   "metadata": {},
   "outputs": [],
   "source": [
    "where to store this as library efficeintly so i can reuse"
   ]
  },
  {
   "cell_type": "code",
   "execution_count": 1,
   "id": "159774dd-578e-44bb-9cb9-5db5c9fab4fc",
   "metadata": {},
   "outputs": [
    {
     "name": "stdout",
     "output_type": "stream",
     "text": [
      "Commenter's Name: Danny\n",
      "Comment: Came in feeling stressed and left feeling relaxed and happy! Fantastic neck& back massage – so relaxed & all soreness disappears\n",
      "        Wonderful as always. Thank you Summer\n",
      "        Excellent. Will be back again soon\n"
     ]
    }
   ],
   "source": [
    "from bs4 import BeautifulSoup\n",
    "\n",
    "# Example HTML content\n",
    "html_content = \"\"\"\n",
    "<article id=\"div-comment-7230\" class=\"comment-body\">\n",
    "    <footer class=\"comment-meta\">\n",
    "        <div class=\"comment-author vcard\">\n",
    "            <b class=\"fn\"><a href=\"http://1298\" class=\"url\" rel=\"ugc external nofollow\">Danny</a></b> <span class=\"says\">says:</span>\n",
    "        </div>\n",
    "        <div class=\"comment-metadata\">\n",
    "            <a href=\"https://g1298.com/v-wellness-spa-jurong-west-street-41/#comment-7230\">\n",
    "                <time datetime=\"2023-10-23T13:52:51+08:00\">23/10/2023 at 1:52 pm</time>\n",
    "            </a>\n",
    "        </div>\n",
    "    </footer>\n",
    "    <div class=\"comment-content\">\n",
    "        <p>Came in feeling stressed and left feeling relaxed and happy! Fantastic neck&amp; back massage – so relaxed &amp; all soreness disappears<br>\n",
    "        Wonderful as always. Thank you Summer<br>\n",
    "        Excellent. Will be back again soon</p>\n",
    "    </div>\n",
    "</article>\n",
    "\"\"\"\n",
    "\n",
    "# Parse the HTML content\n",
    "soup = BeautifulSoup(html_content, 'html.parser')\n",
    "\n",
    "# Extract commenter's name\n",
    "commenter_name = soup.find('b', class_='fn').get_text()\n",
    "\n",
    "# Extract comment\n",
    "comment = soup.find('div', class_='comment-content').get_text().strip()\n",
    "\n",
    "print(\"Commenter's Name:\", commenter_name)\n",
    "print(\"Comment:\", comment)\n"
   ]
  }
 ],
 "metadata": {
  "kernelspec": {
   "display_name": "Python 3 (ipykernel)",
   "language": "python",
   "name": "python3"
  },
  "language_info": {
   "codemirror_mode": {
    "name": "ipython",
    "version": 3
   },
   "file_extension": ".py",
   "mimetype": "text/x-python",
   "name": "python",
   "nbconvert_exporter": "python",
   "pygments_lexer": "ipython3",
   "version": "3.11.0"
  }
 },
 "nbformat": 4,
 "nbformat_minor": 5
}
